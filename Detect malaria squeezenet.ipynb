{
 "cells": [
  {
   "cell_type": "markdown",
   "metadata": {},
   "source": [
    "Project:  Identify malarial parasite in blood cells in resource poor settings from microscopic pictures taken by cellphone. \n",
    "\n",
    "         Create model on a regular laptop without GPU\n",
    "         \n",
    "         Deploy the model in a phone on on the web\n",
    "         \n",
    "         \n",
    "inspiration: https://blog.insightdatascience.com/https-blog-insightdatascience-com-malaria-hero-a47d3d5fc4bb by Carlos Atico Ariza\n",
    "\n",
    "This version uses Squeezenet\n"
   ]
  },
  {
   "cell_type": "code",
   "execution_count": 1,
   "metadata": {},
   "outputs": [],
   "source": [
    "\n",
    "# importing turicreate as tc\n",
    "\n",
    "import warnings\n",
    "# ignoring warnings\n",
    "warnings.filterwarnings(\"ignore\", message=\"numpy.dtype size changed\")\n",
    "warnings.filterwarnings(\"ignore\", message=\"numpy.ufunc size changed\")\n",
    "\n",
    "import turicreate as tc"
   ]
  },
  {
   "cell_type": "markdown",
   "metadata": {},
   "source": [
    "Data source: Data was obtained from https://ceb.nlm.nih.gov/repositories/malaria-datasets/\n",
    "\n",
    "There is a link to download the files at the bottom of the website. \n",
    "\n",
    "Download and unzip the files to your working directory for this Jupyter notebook"
   ]
  },
  {
   "cell_type": "code",
   "execution_count": 2,
   "metadata": {},
   "outputs": [
    {
     "data": {
      "text/html": [
       "<pre>Read 5960 images in 5.00091 secs\tspeed: 1191.78 file/sec</pre>"
      ],
      "text/plain": [
       "Read 5960 images in 5.00091 secs\tspeed: 1191.78 file/sec"
      ]
     },
     "metadata": {},
     "output_type": "display_data"
    },
    {
     "data": {
      "text/html": [
       "<pre>Read 10488 images in 10.0018 secs\tspeed: 905.438 file/sec</pre>"
      ],
      "text/plain": [
       "Read 10488 images in 10.0018 secs\tspeed: 905.438 file/sec"
      ]
     },
     "metadata": {},
     "output_type": "display_data"
    },
    {
     "data": {
      "text/html": [
       "<pre>Read 15371 images in 15.0039 secs\tspeed: 976.2 file/sec</pre>"
      ],
      "text/plain": [
       "Read 15371 images in 15.0039 secs\tspeed: 976.2 file/sec"
      ]
     },
     "metadata": {},
     "output_type": "display_data"
    },
    {
     "data": {
      "text/html": [
       "<pre>Read 20422 images in 20.0055 secs\tspeed: 1009.88 file/sec</pre>"
      ],
      "text/plain": [
       "Read 20422 images in 20.0055 secs\tspeed: 1009.88 file/sec"
      ]
     },
     "metadata": {},
     "output_type": "display_data"
    }
   ],
   "source": [
    "# Loading the images from local drive.\n",
    "\n",
    "reference_data  = tc.image_analysis.load_images('cell_images', with_path=True)"
   ]
  },
  {
   "cell_type": "code",
   "execution_count": 3,
   "metadata": {},
   "outputs": [
    {
     "data": {
      "text/html": [
       "<div style=\"max-height:1000px;max-width:1500px;overflow:auto;\"><table frame=\"box\" rules=\"cols\">\n",
       "    <tr>\n",
       "        <th style=\"padding-left: 1em; padding-right: 1em; text-align: center\">path</th>\n",
       "        <th style=\"padding-left: 1em; padding-right: 1em; text-align: center\">image</th>\n",
       "    </tr>\n",
       "    <tr>\n",
       "        <td style=\"padding-left: 1em; padding-right: 1em; text-align: center; vertical-align: top\">cell_images/Parasitized/C<br>100P61ThinF_IMG_20150 ...</td>\n",
       "        <td style=\"padding-left: 1em; padding-right: 1em; text-align: center; vertical-align: top\">Height: 148 Width: 142</td>\n",
       "    </tr>\n",
       "    <tr>\n",
       "        <td style=\"padding-left: 1em; padding-right: 1em; text-align: center; vertical-align: top\">cell_images/Parasitized/C<br>100P61ThinF_IMG_20150 ...</td>\n",
       "        <td style=\"padding-left: 1em; padding-right: 1em; text-align: center; vertical-align: top\">Height: 208 Width: 148</td>\n",
       "    </tr>\n",
       "    <tr>\n",
       "        <td style=\"padding-left: 1em; padding-right: 1em; text-align: center; vertical-align: top\">cell_images/Parasitized/C<br>100P61ThinF_IMG_20150 ...</td>\n",
       "        <td style=\"padding-left: 1em; padding-right: 1em; text-align: center; vertical-align: top\">Height: 151 Width: 139</td>\n",
       "    </tr>\n",
       "    <tr>\n",
       "        <td style=\"padding-left: 1em; padding-right: 1em; text-align: center; vertical-align: top\">cell_images/Parasitized/C<br>100P61ThinF_IMG_20150 ...</td>\n",
       "        <td style=\"padding-left: 1em; padding-right: 1em; text-align: center; vertical-align: top\">Height: 154 Width: 145</td>\n",
       "    </tr>\n",
       "    <tr>\n",
       "        <td style=\"padding-left: 1em; padding-right: 1em; text-align: center; vertical-align: top\">cell_images/Parasitized/C<br>100P61ThinF_IMG_20150 ...</td>\n",
       "        <td style=\"padding-left: 1em; padding-right: 1em; text-align: center; vertical-align: top\">Height: 154 Width: 133</td>\n",
       "    </tr>\n",
       "    <tr>\n",
       "        <td style=\"padding-left: 1em; padding-right: 1em; text-align: center; vertical-align: top\">cell_images/Parasitized/C<br>100P61ThinF_IMG_20150 ...</td>\n",
       "        <td style=\"padding-left: 1em; padding-right: 1em; text-align: center; vertical-align: top\">Height: 145 Width: 169</td>\n",
       "    </tr>\n",
       "    <tr>\n",
       "        <td style=\"padding-left: 1em; padding-right: 1em; text-align: center; vertical-align: top\">cell_images/Parasitized/C<br>100P61ThinF_IMG_20150 ...</td>\n",
       "        <td style=\"padding-left: 1em; padding-right: 1em; text-align: center; vertical-align: top\">Height: 139 Width: 139</td>\n",
       "    </tr>\n",
       "    <tr>\n",
       "        <td style=\"padding-left: 1em; padding-right: 1em; text-align: center; vertical-align: top\">cell_images/Parasitized/C<br>100P61ThinF_IMG_20150 ...</td>\n",
       "        <td style=\"padding-left: 1em; padding-right: 1em; text-align: center; vertical-align: top\">Height: 124 Width: 154</td>\n",
       "    </tr>\n",
       "    <tr>\n",
       "        <td style=\"padding-left: 1em; padding-right: 1em; text-align: center; vertical-align: top\">cell_images/Parasitized/C<br>100P61ThinF_IMG_20150 ...</td>\n",
       "        <td style=\"padding-left: 1em; padding-right: 1em; text-align: center; vertical-align: top\">Height: 148 Width: 124</td>\n",
       "    </tr>\n",
       "    <tr>\n",
       "        <td style=\"padding-left: 1em; padding-right: 1em; text-align: center; vertical-align: top\">cell_images/Parasitized/C<br>100P61ThinF_IMG_20150 ...</td>\n",
       "        <td style=\"padding-left: 1em; padding-right: 1em; text-align: center; vertical-align: top\">Height: 142 Width: 139</td>\n",
       "    </tr>\n",
       "</table>\n",
       "[10 rows x 2 columns]<br/>\n",
       "</div>"
      ],
      "text/plain": [
       "Columns:\n",
       "\tpath\tstr\n",
       "\timage\tImage\n",
       "\n",
       "Rows: 10\n",
       "\n",
       "Data:\n",
       "+-------------------------------+------------------------+\n",
       "|              path             |         image          |\n",
       "+-------------------------------+------------------------+\n",
       "| cell_images/Parasitized/C1... | Height: 148 Width: 142 |\n",
       "| cell_images/Parasitized/C1... | Height: 208 Width: 148 |\n",
       "| cell_images/Parasitized/C1... | Height: 151 Width: 139 |\n",
       "| cell_images/Parasitized/C1... | Height: 154 Width: 145 |\n",
       "| cell_images/Parasitized/C1... | Height: 154 Width: 133 |\n",
       "| cell_images/Parasitized/C1... | Height: 145 Width: 169 |\n",
       "| cell_images/Parasitized/C1... | Height: 139 Width: 139 |\n",
       "| cell_images/Parasitized/C1... | Height: 124 Width: 154 |\n",
       "| cell_images/Parasitized/C1... | Height: 148 Width: 124 |\n",
       "| cell_images/Parasitized/C1... | Height: 142 Width: 139 |\n",
       "+-------------------------------+------------------------+\n",
       "[10 rows x 2 columns]"
      ]
     },
     "execution_count": 3,
     "metadata": {},
     "output_type": "execute_result"
    }
   ],
   "source": [
    "# checking the data \n",
    "reference_data.head()"
   ]
  },
  {
   "cell_type": "code",
   "execution_count": 4,
   "metadata": {},
   "outputs": [],
   "source": [
    "image_sarray = reference_data['image']"
   ]
  },
  {
   "cell_type": "code",
   "execution_count": 5,
   "metadata": {},
   "outputs": [],
   "source": [
    "# Resizing the image -you can skip this \n",
    "\n",
    "resized_images = tc.image_analysis.resize(image_sarray,224,224)"
   ]
  },
  {
   "cell_type": "code",
   "execution_count": 6,
   "metadata": {},
   "outputs": [],
   "source": [
    "# Reinstating the edited \"image\" column back to reference_data\n",
    "\n",
    "reference_data['image'] = resized_images"
   ]
  },
  {
   "cell_type": "code",
   "execution_count": 7,
   "metadata": {},
   "outputs": [],
   "source": [
    "# Labelling each images in the SFrame using the folder name as malaria or not malaria \n",
    "\n",
    "reference_data['label'] = reference_data['path'].apply(lambda path: 'malaria' if '/Parasitized' in path else 'not malaria')\n"
   ]
  },
  {
   "cell_type": "code",
   "execution_count": 8,
   "metadata": {},
   "outputs": [
    {
     "data": {
      "text/html": [
       "<div style=\"max-height:1000px;max-width:1500px;overflow:auto;\"><table frame=\"box\" rules=\"cols\">\n",
       "    <tr>\n",
       "        <th style=\"padding-left: 1em; padding-right: 1em; text-align: center\">path</th>\n",
       "        <th style=\"padding-left: 1em; padding-right: 1em; text-align: center\">image</th>\n",
       "        <th style=\"padding-left: 1em; padding-right: 1em; text-align: center\">label</th>\n",
       "    </tr>\n",
       "    <tr>\n",
       "        <td style=\"padding-left: 1em; padding-right: 1em; text-align: center; vertical-align: top\">cell_images/Parasitized/C<br>100P61ThinF_IMG_20150 ...</td>\n",
       "        <td style=\"padding-left: 1em; padding-right: 1em; text-align: center; vertical-align: top\">Height: 224 Width: 224</td>\n",
       "        <td style=\"padding-left: 1em; padding-right: 1em; text-align: center; vertical-align: top\">malaria</td>\n",
       "    </tr>\n",
       "    <tr>\n",
       "        <td style=\"padding-left: 1em; padding-right: 1em; text-align: center; vertical-align: top\">cell_images/Parasitized/C<br>100P61ThinF_IMG_20150 ...</td>\n",
       "        <td style=\"padding-left: 1em; padding-right: 1em; text-align: center; vertical-align: top\">Height: 224 Width: 224</td>\n",
       "        <td style=\"padding-left: 1em; padding-right: 1em; text-align: center; vertical-align: top\">malaria</td>\n",
       "    </tr>\n",
       "    <tr>\n",
       "        <td style=\"padding-left: 1em; padding-right: 1em; text-align: center; vertical-align: top\">cell_images/Parasitized/C<br>100P61ThinF_IMG_20150 ...</td>\n",
       "        <td style=\"padding-left: 1em; padding-right: 1em; text-align: center; vertical-align: top\">Height: 224 Width: 224</td>\n",
       "        <td style=\"padding-left: 1em; padding-right: 1em; text-align: center; vertical-align: top\">malaria</td>\n",
       "    </tr>\n",
       "    <tr>\n",
       "        <td style=\"padding-left: 1em; padding-right: 1em; text-align: center; vertical-align: top\">cell_images/Parasitized/C<br>100P61ThinF_IMG_20150 ...</td>\n",
       "        <td style=\"padding-left: 1em; padding-right: 1em; text-align: center; vertical-align: top\">Height: 224 Width: 224</td>\n",
       "        <td style=\"padding-left: 1em; padding-right: 1em; text-align: center; vertical-align: top\">malaria</td>\n",
       "    </tr>\n",
       "    <tr>\n",
       "        <td style=\"padding-left: 1em; padding-right: 1em; text-align: center; vertical-align: top\">cell_images/Parasitized/C<br>100P61ThinF_IMG_20150 ...</td>\n",
       "        <td style=\"padding-left: 1em; padding-right: 1em; text-align: center; vertical-align: top\">Height: 224 Width: 224</td>\n",
       "        <td style=\"padding-left: 1em; padding-right: 1em; text-align: center; vertical-align: top\">malaria</td>\n",
       "    </tr>\n",
       "    <tr>\n",
       "        <td style=\"padding-left: 1em; padding-right: 1em; text-align: center; vertical-align: top\">cell_images/Parasitized/C<br>100P61ThinF_IMG_20150 ...</td>\n",
       "        <td style=\"padding-left: 1em; padding-right: 1em; text-align: center; vertical-align: top\">Height: 224 Width: 224</td>\n",
       "        <td style=\"padding-left: 1em; padding-right: 1em; text-align: center; vertical-align: top\">malaria</td>\n",
       "    </tr>\n",
       "    <tr>\n",
       "        <td style=\"padding-left: 1em; padding-right: 1em; text-align: center; vertical-align: top\">cell_images/Parasitized/C<br>100P61ThinF_IMG_20150 ...</td>\n",
       "        <td style=\"padding-left: 1em; padding-right: 1em; text-align: center; vertical-align: top\">Height: 224 Width: 224</td>\n",
       "        <td style=\"padding-left: 1em; padding-right: 1em; text-align: center; vertical-align: top\">malaria</td>\n",
       "    </tr>\n",
       "    <tr>\n",
       "        <td style=\"padding-left: 1em; padding-right: 1em; text-align: center; vertical-align: top\">cell_images/Parasitized/C<br>100P61ThinF_IMG_20150 ...</td>\n",
       "        <td style=\"padding-left: 1em; padding-right: 1em; text-align: center; vertical-align: top\">Height: 224 Width: 224</td>\n",
       "        <td style=\"padding-left: 1em; padding-right: 1em; text-align: center; vertical-align: top\">malaria</td>\n",
       "    </tr>\n",
       "    <tr>\n",
       "        <td style=\"padding-left: 1em; padding-right: 1em; text-align: center; vertical-align: top\">cell_images/Parasitized/C<br>100P61ThinF_IMG_20150 ...</td>\n",
       "        <td style=\"padding-left: 1em; padding-right: 1em; text-align: center; vertical-align: top\">Height: 224 Width: 224</td>\n",
       "        <td style=\"padding-left: 1em; padding-right: 1em; text-align: center; vertical-align: top\">malaria</td>\n",
       "    </tr>\n",
       "    <tr>\n",
       "        <td style=\"padding-left: 1em; padding-right: 1em; text-align: center; vertical-align: top\">cell_images/Parasitized/C<br>100P61ThinF_IMG_20150 ...</td>\n",
       "        <td style=\"padding-left: 1em; padding-right: 1em; text-align: center; vertical-align: top\">Height: 224 Width: 224</td>\n",
       "        <td style=\"padding-left: 1em; padding-right: 1em; text-align: center; vertical-align: top\">malaria</td>\n",
       "    </tr>\n",
       "</table>\n",
       "[10 rows x 3 columns]<br/>\n",
       "</div>"
      ],
      "text/plain": [
       "Columns:\n",
       "\tpath\tstr\n",
       "\timage\tImage\n",
       "\tlabel\tstr\n",
       "\n",
       "Rows: 10\n",
       "\n",
       "Data:\n",
       "+-------------------------------+------------------------+---------+\n",
       "|              path             |         image          |  label  |\n",
       "+-------------------------------+------------------------+---------+\n",
       "| cell_images/Parasitized/C1... | Height: 224 Width: 224 | malaria |\n",
       "| cell_images/Parasitized/C1... | Height: 224 Width: 224 | malaria |\n",
       "| cell_images/Parasitized/C1... | Height: 224 Width: 224 | malaria |\n",
       "| cell_images/Parasitized/C1... | Height: 224 Width: 224 | malaria |\n",
       "| cell_images/Parasitized/C1... | Height: 224 Width: 224 | malaria |\n",
       "| cell_images/Parasitized/C1... | Height: 224 Width: 224 | malaria |\n",
       "| cell_images/Parasitized/C1... | Height: 224 Width: 224 | malaria |\n",
       "| cell_images/Parasitized/C1... | Height: 224 Width: 224 | malaria |\n",
       "| cell_images/Parasitized/C1... | Height: 224 Width: 224 | malaria |\n",
       "| cell_images/Parasitized/C1... | Height: 224 Width: 224 | malaria |\n",
       "+-------------------------------+------------------------+---------+\n",
       "[10 rows x 3 columns]"
      ]
     },
     "execution_count": 8,
     "metadata": {},
     "output_type": "execute_result"
    }
   ],
   "source": [
    "# Displaying first 5 rows to make sure that we got the data in the right format\n",
    "\n",
    "reference_data.head()"
   ]
  },
  {
   "cell_type": "code",
   "execution_count": 9,
   "metadata": {},
   "outputs": [],
   "source": [
    "#Splitting the data into training, testing and validation sets\n",
    "\n",
    "train_data2, test_data = reference_data.random_split(0.8)\n",
    "train_data, valid_data = train_data2.random_split(0.8)"
   ]
  },
  {
   "cell_type": "code",
   "execution_count": null,
   "metadata": {},
   "outputs": [],
   "source": [
    "# Create model\n",
    "model = tc.image_classifier.create(train_data, target= 'label', max_iterations = 100,validation_set = valid_data, model='squeezenet_v1.1'  )"
   ]
  },
  {
   "cell_type": "code",
   "execution_count": 24,
   "metadata": {},
   "outputs": [],
   "source": [
    "# storing the prediction \n",
    "\n",
    "predictions = model.predict(test_data)"
   ]
  },
  {
   "cell_type": "code",
   "execution_count": null,
   "metadata": {},
   "outputs": [],
   "source": [
    "# Evaluating the model on the test data\n",
    "\n",
    "metrics = model.evaluate(test_data)\n",
    "print(metrics['accuracy'])"
   ]
  },
  {
   "cell_type": "code",
   "execution_count": 26,
   "metadata": {},
   "outputs": [
    {
     "name": "stdout",
     "output_type": "stream",
     "text": [
      "Confusion Matrix : \n",
      "+--------------+-----------------+-------+\n",
      "| target_label | predicted_label | count |\n",
      "+--------------+-----------------+-------+\n",
      "|   malaria    |     malaria     |  2584 |\n",
      "|   malaria    |   not malaria   |  211  |\n",
      "| not malaria  |   not malaria   |  2722 |\n",
      "| not malaria  |     malaria     |  114  |\n",
      "+--------------+-----------------+-------+\n",
      "[4 rows x 3 columns]\n",
      "\n"
     ]
    }
   ],
   "source": [
    "# Printing confusion matrix\n",
    "\n",
    "print (\"Confusion Matrix : \\n%s\" % metrics['confusion_matrix'])"
   ]
  },
  {
   "cell_type": "code",
   "execution_count": 27,
   "metadata": {},
   "outputs": [
    {
     "name": "stdout",
     "output_type": "stream",
     "text": [
      "Class                                    : ImageClassifier\n",
      "\n",
      "Schema\n",
      "------\n",
      "Number of classes                        : 2\n",
      "Number of feature columns                : 1\n",
      "Input image shape                        : (3, 227, 227)\n",
      "\n",
      "Training summary\n",
      "----------------\n",
      "Number of examples                       : 17443\n",
      "Training loss                            : 2665.2744\n",
      "Training time (sec)                      : 790.3401\n",
      "\n"
     ]
    }
   ],
   "source": [
    "model.summary()"
   ]
  },
  {
   "cell_type": "code",
   "execution_count": 28,
   "metadata": {},
   "outputs": [],
   "source": [
    "#It took 13 minutes to complete model generation from 22,147 images on a laptop with \n",
    "# Intel core i7-6500U 2.5GHZ , 16 gb memory without using the GPU"
   ]
  },
  {
   "cell_type": "code",
   "execution_count": 29,
   "metadata": {},
   "outputs": [],
   "source": [
    " #Save the model for later use in Turi Create\n",
    "\n",
    "model.save('malaria_squeeze100.model')"
   ]
  },
  {
   "cell_type": "code",
   "execution_count": 30,
   "metadata": {},
   "outputs": [],
   "source": [
    "#Export for use in Core ML\n",
    "# You can use this model in the template provided by apple to create an iphone app\n",
    "# Refer to this website if you need assistance - https://www.appcoda.com/core-ml-model-with-python/\n",
    "\n",
    "model.export_coreml('malaria_squeeze100.mlmodel')"
   ]
  },
  {
   "cell_type": "code",
   "execution_count": 31,
   "metadata": {},
   "outputs": [
    {
     "name": "stdout",
     "output_type": "stream",
     "text": [
      "0.943664413243\n"
     ]
    }
   ],
   "source": [
    "print(metrics['f1_score'])"
   ]
  },
  {
   "cell_type": "code",
   "execution_count": 32,
   "metadata": {},
   "outputs": [],
   "source": [
    "targets = test_data['label']"
   ]
  },
  {
   "cell_type": "code",
   "execution_count": 33,
   "metadata": {},
   "outputs": [],
   "source": [
    "f1 = tc.evaluation.f1_score(targets, predictions)"
   ]
  },
  {
   "cell_type": "code",
   "execution_count": 34,
   "metadata": {},
   "outputs": [],
   "source": [
    "fbeta = tc.evaluation.fbeta_score(targets, predictions, beta = 2.0)"
   ]
  },
  {
   "cell_type": "code",
   "execution_count": 35,
   "metadata": {},
   "outputs": [
    {
     "name": "stdout",
     "output_type": "stream",
     "text": [
      "(0.9436644132431965, 0.9532815017160468)\n"
     ]
    }
   ],
   "source": [
    "print(f1, fbeta)"
   ]
  },
  {
   "cell_type": "markdown",
   "metadata": {},
   "source": [
    "Stats\n",
    "\n",
    "F-beta score = 95.3\n",
    "\n",
    "Accuracy = 94.23%\n",
    "\n",
    "Sensitivity = 92.45%\n",
    "\n",
    "Specificity = 95.98 %\n",
    "\n",
    "Positive predictive value = 95.77%\n",
    "\n",
    "Negative predictive value = 92.81 %\n",
    "\n",
    "False Discovery Rate =\t4.23%\n",
    "\n",
    "Matthews Correlation Coefficient =\t88.51%\n",
    "\n",
    "Diagnostic odds ratio = 292.38\n"
   ]
  },
  {
   "cell_type": "code",
   "execution_count": 36,
   "metadata": {},
   "outputs": [
    {
     "name": "stdout",
     "output_type": "stream",
     "text": [
      "{'f1_score': 0.9436644132431965, 'auc': 0.9817053170203646, 'recall': 0.9598025387870239, 'precision': 0.9280600068189567, 'log_loss': 0.16909834122102477, 'roc_curve': Columns:\n",
      "\tthreshold\tfloat\n",
      "\tfpr\tfloat\n",
      "\ttpr\tfloat\n",
      "\tp\tint\n",
      "\tn\tint\n",
      "\n",
      "Rows: 100001\n",
      "\n",
      "Data:\n",
      "+-----------+----------------+----------------+------+------+\n",
      "| threshold |      fpr       |      tpr       |  p   |  n   |\n",
      "+-----------+----------------+----------------+------+------+\n",
      "|    0.0    |      1.0       |      1.0       | 2836 | 2795 |\n",
      "|   1e-05   | 0.849373881932 |      1.0       | 2836 | 2795 |\n",
      "|   2e-05   | 0.826118067979 |      1.0       | 2836 | 2795 |\n",
      "|   3e-05   | 0.810733452594 |      1.0       | 2836 | 2795 |\n",
      "|   4e-05   | 0.793559928444 | 0.999647390691 | 2836 | 2795 |\n",
      "|   5e-05   | 0.780322003578 | 0.999647390691 | 2836 | 2795 |\n",
      "|   6e-05   | 0.772808586762 | 0.999647390691 | 2836 | 2795 |\n",
      "|   7e-05   | 0.763864042934 | 0.999647390691 | 2836 | 2795 |\n",
      "|   8e-05   | 0.757781753131 | 0.999647390691 | 2836 | 2795 |\n",
      "|   9e-05   | 0.749552772809 | 0.999647390691 | 2836 | 2795 |\n",
      "+-----------+----------------+----------------+------+------+\n",
      "[100001 rows x 5 columns]\n",
      "Note: Only the head of the SFrame is printed.\n",
      "You can use print_rows(num_rows=m, num_columns=n) to print more rows and columns., 'confusion_matrix': Columns:\n",
      "\ttarget_label\tstr\n",
      "\tpredicted_label\tstr\n",
      "\tcount\tint\n",
      "\n",
      "Rows: 4\n",
      "\n",
      "Data:\n",
      "+--------------+-----------------+-------+\n",
      "| target_label | predicted_label | count |\n",
      "+--------------+-----------------+-------+\n",
      "|   malaria    |     malaria     |  2584 |\n",
      "|   malaria    |   not malaria   |  211  |\n",
      "| not malaria  |   not malaria   |  2722 |\n",
      "| not malaria  |     malaria     |  114  |\n",
      "+--------------+-----------------+-------+\n",
      "[4 rows x 3 columns]\n",
      ", 'accuracy': 0.9422837861836264}\n"
     ]
    }
   ],
   "source": [
    "print(metrics)"
   ]
  }
 ],
 "metadata": {
  "kernelspec": {
   "display_name": "Python 2",
   "language": "python",
   "name": "python2"
  },
  "language_info": {
   "codemirror_mode": {
    "name": "ipython",
    "version": 2
   },
   "file_extension": ".py",
   "mimetype": "text/x-python",
   "name": "python",
   "nbconvert_exporter": "python",
   "pygments_lexer": "ipython2",
   "version": "2.7.15rc1"
  }
 },
 "nbformat": 4,
 "nbformat_minor": 2
}
