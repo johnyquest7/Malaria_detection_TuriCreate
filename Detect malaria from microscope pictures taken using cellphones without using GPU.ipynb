{
 "cells": [
  {
   "cell_type": "markdown",
   "metadata": {},
   "source": [
    "Project:  Identify malarial parasite in blood cells in resource poor settings from microscopic pictures taken by cellphone. \n",
    "\n",
    "         Create model on a regular laptop without GPU\n",
    "         \n",
    "         Deploy the model in a phone on on the web\n",
    "         \n",
    "         \n",
    "inspiration: https://blog.insightdatascience.com/https-blog-insightdatascience-com-malaria-hero-a47d3d5fc4bb by Carlos Atico Ariza\n"
   ]
  },
  {
   "cell_type": "code",
   "execution_count": 1,
   "metadata": {},
   "outputs": [],
   "source": [
    "\n",
    "# importing turicreate as tc\n",
    "\n",
    "import warnings\n",
    "# ignoring warnings\n",
    "warnings.filterwarnings(\"ignore\", message=\"numpy.dtype size changed\")\n",
    "warnings.filterwarnings(\"ignore\", message=\"numpy.ufunc size changed\")\n",
    "\n",
    "import turicreate as tc"
   ]
  },
  {
   "cell_type": "markdown",
   "metadata": {},
   "source": [
    "Data source: Data was obtained from https://ceb.nlm.nih.gov/repositories/malaria-datasets/\n",
    "\n",
    "There is a link to download the files at the bottom of the website. \n",
    "\n",
    "Download and unzip the files to your working directory for this Jupyter notebook"
   ]
  },
  {
   "cell_type": "code",
   "execution_count": 4,
   "metadata": {},
   "outputs": [
    {
     "data": {
      "text/html": [
       "<pre>Read 9996 images in 5.16255 secs\tspeed: 1936.25 file/sec</pre>"
      ],
      "text/plain": [
       "Read 9996 images in 5.16255 secs\tspeed: 1936.25 file/sec"
      ]
     },
     "metadata": {},
     "output_type": "display_data"
    },
    {
     "data": {
      "text/html": [
       "<pre>Read 21178 images in 10.1628 secs\tspeed: 2236.29 file/sec</pre>"
      ],
      "text/plain": [
       "Read 21178 images in 10.1628 secs\tspeed: 2236.29 file/sec"
      ]
     },
     "metadata": {},
     "output_type": "display_data"
    }
   ],
   "source": [
    "# Loading the images from local drive.\n",
    "\n",
    "reference_data  = tc.image_analysis.load_images('cell_images', with_path=True)"
   ]
  },
  {
   "cell_type": "code",
   "execution_count": 5,
   "metadata": {},
   "outputs": [
    {
     "data": {
      "text/html": [
       "<div style=\"max-height:1000px;max-width:1500px;overflow:auto;\"><table frame=\"box\" rules=\"cols\">\n",
       "    <tr>\n",
       "        <th style=\"padding-left: 1em; padding-right: 1em; text-align: center\">path</th>\n",
       "        <th style=\"padding-left: 1em; padding-right: 1em; text-align: center\">image</th>\n",
       "    </tr>\n",
       "    <tr>\n",
       "        <td style=\"padding-left: 1em; padding-right: 1em; text-align: center; vertical-align: top\">cell_images/Parasitized/C<br>100P61ThinF_IMG_20150 ...</td>\n",
       "        <td style=\"padding-left: 1em; padding-right: 1em; text-align: center; vertical-align: top\">Height: 148 Width: 142</td>\n",
       "    </tr>\n",
       "    <tr>\n",
       "        <td style=\"padding-left: 1em; padding-right: 1em; text-align: center; vertical-align: top\">cell_images/Parasitized/C<br>100P61ThinF_IMG_20150 ...</td>\n",
       "        <td style=\"padding-left: 1em; padding-right: 1em; text-align: center; vertical-align: top\">Height: 208 Width: 148</td>\n",
       "    </tr>\n",
       "    <tr>\n",
       "        <td style=\"padding-left: 1em; padding-right: 1em; text-align: center; vertical-align: top\">cell_images/Parasitized/C<br>100P61ThinF_IMG_20150 ...</td>\n",
       "        <td style=\"padding-left: 1em; padding-right: 1em; text-align: center; vertical-align: top\">Height: 151 Width: 139</td>\n",
       "    </tr>\n",
       "    <tr>\n",
       "        <td style=\"padding-left: 1em; padding-right: 1em; text-align: center; vertical-align: top\">cell_images/Parasitized/C<br>100P61ThinF_IMG_20150 ...</td>\n",
       "        <td style=\"padding-left: 1em; padding-right: 1em; text-align: center; vertical-align: top\">Height: 154 Width: 145</td>\n",
       "    </tr>\n",
       "    <tr>\n",
       "        <td style=\"padding-left: 1em; padding-right: 1em; text-align: center; vertical-align: top\">cell_images/Parasitized/C<br>100P61ThinF_IMG_20150 ...</td>\n",
       "        <td style=\"padding-left: 1em; padding-right: 1em; text-align: center; vertical-align: top\">Height: 154 Width: 133</td>\n",
       "    </tr>\n",
       "    <tr>\n",
       "        <td style=\"padding-left: 1em; padding-right: 1em; text-align: center; vertical-align: top\">cell_images/Parasitized/C<br>100P61ThinF_IMG_20150 ...</td>\n",
       "        <td style=\"padding-left: 1em; padding-right: 1em; text-align: center; vertical-align: top\">Height: 145 Width: 169</td>\n",
       "    </tr>\n",
       "    <tr>\n",
       "        <td style=\"padding-left: 1em; padding-right: 1em; text-align: center; vertical-align: top\">cell_images/Parasitized/C<br>100P61ThinF_IMG_20150 ...</td>\n",
       "        <td style=\"padding-left: 1em; padding-right: 1em; text-align: center; vertical-align: top\">Height: 139 Width: 139</td>\n",
       "    </tr>\n",
       "    <tr>\n",
       "        <td style=\"padding-left: 1em; padding-right: 1em; text-align: center; vertical-align: top\">cell_images/Parasitized/C<br>100P61ThinF_IMG_20150 ...</td>\n",
       "        <td style=\"padding-left: 1em; padding-right: 1em; text-align: center; vertical-align: top\">Height: 124 Width: 154</td>\n",
       "    </tr>\n",
       "    <tr>\n",
       "        <td style=\"padding-left: 1em; padding-right: 1em; text-align: center; vertical-align: top\">cell_images/Parasitized/C<br>100P61ThinF_IMG_20150 ...</td>\n",
       "        <td style=\"padding-left: 1em; padding-right: 1em; text-align: center; vertical-align: top\">Height: 148 Width: 124</td>\n",
       "    </tr>\n",
       "    <tr>\n",
       "        <td style=\"padding-left: 1em; padding-right: 1em; text-align: center; vertical-align: top\">cell_images/Parasitized/C<br>100P61ThinF_IMG_20150 ...</td>\n",
       "        <td style=\"padding-left: 1em; padding-right: 1em; text-align: center; vertical-align: top\">Height: 142 Width: 139</td>\n",
       "    </tr>\n",
       "</table>\n",
       "[10 rows x 2 columns]<br/>\n",
       "</div>"
      ],
      "text/plain": [
       "Columns:\n",
       "\tpath\tstr\n",
       "\timage\tImage\n",
       "\n",
       "Rows: 10\n",
       "\n",
       "Data:\n",
       "+-------------------------------+------------------------+\n",
       "|              path             |         image          |\n",
       "+-------------------------------+------------------------+\n",
       "| cell_images/Parasitized/C1... | Height: 148 Width: 142 |\n",
       "| cell_images/Parasitized/C1... | Height: 208 Width: 148 |\n",
       "| cell_images/Parasitized/C1... | Height: 151 Width: 139 |\n",
       "| cell_images/Parasitized/C1... | Height: 154 Width: 145 |\n",
       "| cell_images/Parasitized/C1... | Height: 154 Width: 133 |\n",
       "| cell_images/Parasitized/C1... | Height: 145 Width: 169 |\n",
       "| cell_images/Parasitized/C1... | Height: 139 Width: 139 |\n",
       "| cell_images/Parasitized/C1... | Height: 124 Width: 154 |\n",
       "| cell_images/Parasitized/C1... | Height: 148 Width: 124 |\n",
       "| cell_images/Parasitized/C1... | Height: 142 Width: 139 |\n",
       "+-------------------------------+------------------------+\n",
       "[10 rows x 2 columns]"
      ]
     },
     "execution_count": 5,
     "metadata": {},
     "output_type": "execute_result"
    }
   ],
   "source": [
    "# checking the data \n",
    "reference_data.head()"
   ]
  },
  {
   "cell_type": "code",
   "execution_count": 6,
   "metadata": {},
   "outputs": [],
   "source": [
    "image_sarray = reference_data['image']"
   ]
  },
  {
   "cell_type": "code",
   "execution_count": 7,
   "metadata": {},
   "outputs": [],
   "source": [
    "# Resizing the image -you can skip this \n",
    "\n",
    "resized_images = tc.image_analysis.resize(image_sarray,224,224)"
   ]
  },
  {
   "cell_type": "code",
   "execution_count": 8,
   "metadata": {},
   "outputs": [],
   "source": [
    "# Reinstating the edited \"image\" column back to reference_data\n",
    "\n",
    "reference_data['image'] = resized_images"
   ]
  },
  {
   "cell_type": "code",
   "execution_count": 9,
   "metadata": {},
   "outputs": [],
   "source": [
    "# Labelling each images in the SFrame using the folder name as malaria or not malaria \n",
    "\n",
    "reference_data['label'] = reference_data['path'].apply(lambda path: 'malaria' if '/Parasitized' in path else 'not malaria')\n"
   ]
  },
  {
   "cell_type": "code",
   "execution_count": 10,
   "metadata": {},
   "outputs": [
    {
     "data": {
      "text/html": [
       "<div style=\"max-height:1000px;max-width:1500px;overflow:auto;\"><table frame=\"box\" rules=\"cols\">\n",
       "    <tr>\n",
       "        <th style=\"padding-left: 1em; padding-right: 1em; text-align: center\">path</th>\n",
       "        <th style=\"padding-left: 1em; padding-right: 1em; text-align: center\">image</th>\n",
       "        <th style=\"padding-left: 1em; padding-right: 1em; text-align: center\">label</th>\n",
       "    </tr>\n",
       "    <tr>\n",
       "        <td style=\"padding-left: 1em; padding-right: 1em; text-align: center; vertical-align: top\">cell_images/Parasitized/C<br>100P61ThinF_IMG_20150 ...</td>\n",
       "        <td style=\"padding-left: 1em; padding-right: 1em; text-align: center; vertical-align: top\">Height: 224 Width: 224</td>\n",
       "        <td style=\"padding-left: 1em; padding-right: 1em; text-align: center; vertical-align: top\">malaria</td>\n",
       "    </tr>\n",
       "    <tr>\n",
       "        <td style=\"padding-left: 1em; padding-right: 1em; text-align: center; vertical-align: top\">cell_images/Parasitized/C<br>100P61ThinF_IMG_20150 ...</td>\n",
       "        <td style=\"padding-left: 1em; padding-right: 1em; text-align: center; vertical-align: top\">Height: 224 Width: 224</td>\n",
       "        <td style=\"padding-left: 1em; padding-right: 1em; text-align: center; vertical-align: top\">malaria</td>\n",
       "    </tr>\n",
       "    <tr>\n",
       "        <td style=\"padding-left: 1em; padding-right: 1em; text-align: center; vertical-align: top\">cell_images/Parasitized/C<br>100P61ThinF_IMG_20150 ...</td>\n",
       "        <td style=\"padding-left: 1em; padding-right: 1em; text-align: center; vertical-align: top\">Height: 224 Width: 224</td>\n",
       "        <td style=\"padding-left: 1em; padding-right: 1em; text-align: center; vertical-align: top\">malaria</td>\n",
       "    </tr>\n",
       "    <tr>\n",
       "        <td style=\"padding-left: 1em; padding-right: 1em; text-align: center; vertical-align: top\">cell_images/Parasitized/C<br>100P61ThinF_IMG_20150 ...</td>\n",
       "        <td style=\"padding-left: 1em; padding-right: 1em; text-align: center; vertical-align: top\">Height: 224 Width: 224</td>\n",
       "        <td style=\"padding-left: 1em; padding-right: 1em; text-align: center; vertical-align: top\">malaria</td>\n",
       "    </tr>\n",
       "    <tr>\n",
       "        <td style=\"padding-left: 1em; padding-right: 1em; text-align: center; vertical-align: top\">cell_images/Parasitized/C<br>100P61ThinF_IMG_20150 ...</td>\n",
       "        <td style=\"padding-left: 1em; padding-right: 1em; text-align: center; vertical-align: top\">Height: 224 Width: 224</td>\n",
       "        <td style=\"padding-left: 1em; padding-right: 1em; text-align: center; vertical-align: top\">malaria</td>\n",
       "    </tr>\n",
       "    <tr>\n",
       "        <td style=\"padding-left: 1em; padding-right: 1em; text-align: center; vertical-align: top\">cell_images/Parasitized/C<br>100P61ThinF_IMG_20150 ...</td>\n",
       "        <td style=\"padding-left: 1em; padding-right: 1em; text-align: center; vertical-align: top\">Height: 224 Width: 224</td>\n",
       "        <td style=\"padding-left: 1em; padding-right: 1em; text-align: center; vertical-align: top\">malaria</td>\n",
       "    </tr>\n",
       "    <tr>\n",
       "        <td style=\"padding-left: 1em; padding-right: 1em; text-align: center; vertical-align: top\">cell_images/Parasitized/C<br>100P61ThinF_IMG_20150 ...</td>\n",
       "        <td style=\"padding-left: 1em; padding-right: 1em; text-align: center; vertical-align: top\">Height: 224 Width: 224</td>\n",
       "        <td style=\"padding-left: 1em; padding-right: 1em; text-align: center; vertical-align: top\">malaria</td>\n",
       "    </tr>\n",
       "    <tr>\n",
       "        <td style=\"padding-left: 1em; padding-right: 1em; text-align: center; vertical-align: top\">cell_images/Parasitized/C<br>100P61ThinF_IMG_20150 ...</td>\n",
       "        <td style=\"padding-left: 1em; padding-right: 1em; text-align: center; vertical-align: top\">Height: 224 Width: 224</td>\n",
       "        <td style=\"padding-left: 1em; padding-right: 1em; text-align: center; vertical-align: top\">malaria</td>\n",
       "    </tr>\n",
       "    <tr>\n",
       "        <td style=\"padding-left: 1em; padding-right: 1em; text-align: center; vertical-align: top\">cell_images/Parasitized/C<br>100P61ThinF_IMG_20150 ...</td>\n",
       "        <td style=\"padding-left: 1em; padding-right: 1em; text-align: center; vertical-align: top\">Height: 224 Width: 224</td>\n",
       "        <td style=\"padding-left: 1em; padding-right: 1em; text-align: center; vertical-align: top\">malaria</td>\n",
       "    </tr>\n",
       "    <tr>\n",
       "        <td style=\"padding-left: 1em; padding-right: 1em; text-align: center; vertical-align: top\">cell_images/Parasitized/C<br>100P61ThinF_IMG_20150 ...</td>\n",
       "        <td style=\"padding-left: 1em; padding-right: 1em; text-align: center; vertical-align: top\">Height: 224 Width: 224</td>\n",
       "        <td style=\"padding-left: 1em; padding-right: 1em; text-align: center; vertical-align: top\">malaria</td>\n",
       "    </tr>\n",
       "</table>\n",
       "[10 rows x 3 columns]<br/>\n",
       "</div>"
      ],
      "text/plain": [
       "Columns:\n",
       "\tpath\tstr\n",
       "\timage\tImage\n",
       "\tlabel\tstr\n",
       "\n",
       "Rows: 10\n",
       "\n",
       "Data:\n",
       "+-------------------------------+------------------------+---------+\n",
       "|              path             |         image          |  label  |\n",
       "+-------------------------------+------------------------+---------+\n",
       "| cell_images/Parasitized/C1... | Height: 224 Width: 224 | malaria |\n",
       "| cell_images/Parasitized/C1... | Height: 224 Width: 224 | malaria |\n",
       "| cell_images/Parasitized/C1... | Height: 224 Width: 224 | malaria |\n",
       "| cell_images/Parasitized/C1... | Height: 224 Width: 224 | malaria |\n",
       "| cell_images/Parasitized/C1... | Height: 224 Width: 224 | malaria |\n",
       "| cell_images/Parasitized/C1... | Height: 224 Width: 224 | malaria |\n",
       "| cell_images/Parasitized/C1... | Height: 224 Width: 224 | malaria |\n",
       "| cell_images/Parasitized/C1... | Height: 224 Width: 224 | malaria |\n",
       "| cell_images/Parasitized/C1... | Height: 224 Width: 224 | malaria |\n",
       "| cell_images/Parasitized/C1... | Height: 224 Width: 224 | malaria |\n",
       "+-------------------------------+------------------------+---------+\n",
       "[10 rows x 3 columns]"
      ]
     },
     "execution_count": 10,
     "metadata": {},
     "output_type": "execute_result"
    }
   ],
   "source": [
    "# Displaying first 5 rows to make sure that we got the data in the right format\n",
    "\n",
    "reference_data.head()"
   ]
  },
  {
   "cell_type": "code",
   "execution_count": 11,
   "metadata": {},
   "outputs": [],
   "source": [
    "#Splitting the data into training, testing and validation sets\n",
    "\n",
    "train_data2, test_data = reference_data.random_split(0.8)\n",
    "train_data, valid_data = train_data2.random_split(0.8)"
   ]
  },
  {
   "cell_type": "code",
   "execution_count": 12,
   "metadata": {},
   "outputs": [
    {
     "name": "stdout",
     "output_type": "stream",
     "text": [
      "Performing feature extraction on resized images...\n",
      "Completed    64/17616\n",
      "Completed   128/17616\n",
      "Completed   192/17616\n",
      "Completed   256/17616\n",
      "Completed   320/17616\n",
      "Completed   384/17616\n",
      "Completed   448/17616\n",
      "Completed   512/17616\n",
      "Completed   576/17616\n",
      "Completed   640/17616\n",
      "Completed   704/17616\n",
      "Completed   768/17616\n",
      "Completed   832/17616\n",
      "Completed   896/17616\n",
      "Completed   960/17616\n",
      "Completed  1024/17616\n",
      "Completed  1088/17616\n",
      "Completed  1152/17616\n",
      "Completed  1216/17616\n",
      "Completed  1280/17616\n",
      "Completed  1344/17616\n",
      "Completed  1408/17616\n",
      "Completed  1472/17616\n",
      "Completed  1536/17616\n",
      "Completed  1600/17616\n",
      "Completed  1664/17616\n",
      "Completed  1728/17616\n",
      "Completed  1792/17616\n",
      "Completed  1856/17616\n",
      "Completed  1920/17616\n",
      "Completed  1984/17616\n",
      "Completed  2048/17616\n",
      "Completed  2112/17616\n",
      "Completed  2176/17616\n",
      "Completed  2240/17616\n",
      "Completed  2304/17616\n",
      "Completed  2368/17616\n",
      "Completed  2432/17616\n",
      "Completed  2496/17616\n",
      "Completed  2560/17616\n",
      "Completed  2624/17616\n",
      "Completed  2688/17616\n",
      "Completed  2752/17616\n",
      "Completed  2816/17616\n",
      "Completed  2880/17616\n",
      "Completed  2944/17616\n",
      "Completed  3008/17616\n",
      "Completed  3072/17616\n",
      "Completed  3136/17616\n",
      "Completed  3200/17616\n",
      "Completed  3264/17616\n",
      "Completed  3328/17616\n",
      "Completed  3392/17616\n",
      "Completed  3456/17616\n",
      "Completed  3520/17616\n",
      "Completed  3584/17616\n",
      "Completed  3648/17616\n",
      "Completed  3712/17616\n",
      "Completed  3776/17616\n",
      "Completed  3840/17616\n",
      "Completed  3904/17616\n",
      "Completed  3968/17616\n",
      "Completed  4032/17616\n",
      "Completed  4096/17616\n",
      "Completed  4160/17616\n",
      "Completed  4224/17616\n",
      "Completed  4288/17616\n",
      "Completed  4352/17616\n",
      "Completed  4416/17616\n",
      "Completed  4480/17616\n",
      "Completed  4544/17616\n",
      "Completed  4608/17616\n",
      "Completed  4672/17616\n",
      "Completed  4736/17616\n",
      "Completed  4800/17616\n",
      "Completed  4864/17616\n",
      "Completed  4928/17616\n",
      "Completed  4992/17616\n",
      "Completed  5056/17616\n",
      "Completed  5120/17616\n",
      "Completed  5184/17616\n",
      "Completed  5248/17616\n",
      "Completed  5312/17616\n",
      "Completed  5376/17616\n",
      "Completed  5440/17616\n",
      "Completed  5504/17616\n",
      "Completed  5568/17616\n",
      "Completed  5632/17616\n",
      "Completed  5696/17616\n",
      "Completed  5760/17616\n",
      "Completed  5824/17616\n",
      "Completed  5888/17616\n",
      "Completed  5952/17616\n",
      "Completed  6016/17616\n",
      "Completed  6080/17616\n",
      "Completed  6144/17616\n",
      "Completed  6208/17616\n",
      "Completed  6272/17616\n",
      "Completed  6336/17616\n",
      "Completed  6400/17616\n",
      "Completed  6464/17616\n",
      "Completed  6528/17616\n",
      "Completed  6592/17616\n",
      "Completed  6656/17616\n",
      "Completed  6720/17616\n",
      "Completed  6784/17616\n",
      "Completed  6848/17616\n",
      "Completed  6912/17616\n",
      "Completed  6976/17616\n",
      "Completed  7040/17616\n",
      "Completed  7104/17616\n",
      "Completed  7168/17616\n",
      "Completed  7232/17616\n",
      "Completed  7296/17616\n",
      "Completed  7360/17616\n",
      "Completed  7424/17616\n",
      "Completed  7488/17616\n",
      "Completed  7552/17616\n",
      "Completed  7616/17616\n",
      "Completed  7680/17616\n",
      "Completed  7744/17616\n",
      "Completed  7808/17616\n",
      "Completed  7872/17616\n",
      "Completed  7936/17616\n",
      "Completed  8000/17616\n",
      "Completed  8064/17616\n",
      "Completed  8128/17616\n",
      "Completed  8192/17616\n",
      "Completed  8256/17616\n",
      "Completed  8320/17616\n",
      "Completed  8384/17616\n",
      "Completed  8448/17616\n",
      "Completed  8512/17616\n",
      "Completed  8576/17616\n",
      "Completed  8640/17616\n",
      "Completed  8704/17616\n",
      "Completed  8768/17616\n",
      "Completed  8832/17616\n",
      "Completed  8896/17616\n",
      "Completed  8960/17616\n",
      "Completed  9024/17616\n",
      "Completed  9088/17616\n",
      "Completed  9152/17616\n",
      "Completed  9216/17616\n",
      "Completed  9280/17616\n",
      "Completed  9344/17616\n",
      "Completed  9408/17616\n",
      "Completed  9472/17616\n",
      "Completed  9536/17616\n",
      "Completed  9600/17616\n",
      "Completed  9664/17616\n",
      "Completed  9728/17616\n",
      "Completed  9792/17616\n",
      "Completed  9856/17616\n",
      "Completed  9920/17616\n",
      "Completed  9984/17616\n",
      "Completed 10048/17616\n",
      "Completed 10112/17616\n",
      "Completed 10176/17616\n",
      "Completed 10240/17616\n",
      "Completed 10304/17616\n",
      "Completed 10368/17616\n",
      "Completed 10432/17616\n",
      "Completed 10496/17616\n",
      "Completed 10560/17616\n",
      "Completed 10624/17616\n",
      "Completed 10688/17616\n",
      "Completed 10752/17616\n",
      "Completed 10816/17616\n",
      "Completed 10880/17616\n",
      "Completed 10944/17616\n",
      "Completed 11008/17616\n",
      "Completed 11072/17616\n",
      "Completed 11136/17616\n",
      "Completed 11200/17616\n",
      "Completed 11264/17616\n",
      "Completed 11328/17616\n",
      "Completed 11392/17616\n",
      "Completed 11456/17616\n",
      "Completed 11520/17616\n",
      "Completed 11584/17616\n",
      "Completed 11648/17616\n",
      "Completed 11712/17616\n",
      "Completed 11776/17616\n",
      "Completed 11840/17616\n",
      "Completed 11904/17616\n",
      "Completed 11968/17616\n",
      "Completed 12032/17616\n",
      "Completed 12096/17616\n",
      "Completed 12160/17616\n",
      "Completed 12224/17616\n",
      "Completed 12288/17616\n",
      "Completed 12352/17616\n",
      "Completed 12416/17616\n",
      "Completed 12480/17616\n",
      "Completed 12544/17616\n",
      "Completed 12608/17616\n",
      "Completed 12672/17616\n",
      "Completed 12736/17616\n",
      "Completed 12800/17616\n",
      "Completed 12864/17616\n",
      "Completed 12928/17616\n",
      "Completed 12992/17616\n",
      "Completed 13056/17616\n",
      "Completed 13120/17616\n",
      "Completed 13184/17616\n",
      "Completed 13248/17616\n",
      "Completed 13312/17616\n",
      "Completed 13376/17616\n",
      "Completed 13440/17616\n",
      "Completed 13504/17616\n",
      "Completed 13568/17616\n",
      "Completed 13632/17616\n",
      "Completed 13696/17616\n",
      "Completed 13760/17616\n",
      "Completed 13824/17616\n",
      "Completed 13888/17616\n",
      "Completed 13952/17616\n",
      "Completed 14016/17616\n",
      "Completed 14080/17616\n",
      "Completed 14144/17616\n",
      "Completed 14208/17616\n",
      "Completed 14272/17616\n",
      "Completed 14336/17616\n",
      "Completed 14400/17616\n",
      "Completed 14464/17616\n",
      "Completed 14528/17616\n",
      "Completed 14592/17616\n",
      "Completed 14656/17616\n",
      "Completed 14720/17616\n",
      "Completed 14784/17616\n",
      "Completed 14848/17616\n",
      "Completed 14912/17616\n",
      "Completed 14976/17616\n",
      "Completed 15040/17616\n",
      "Completed 15104/17616\n",
      "Completed 15168/17616\n",
      "Completed 15232/17616\n",
      "Completed 15296/17616\n",
      "Completed 15360/17616\n",
      "Completed 15424/17616\n",
      "Completed 15488/17616\n",
      "Completed 15552/17616\n",
      "Completed 15616/17616\n",
      "Completed 15680/17616\n",
      "Completed 15744/17616\n",
      "Completed 15808/17616\n",
      "Completed 15872/17616\n",
      "Completed 15936/17616\n",
      "Completed 16000/17616\n",
      "Completed 16064/17616\n",
      "Completed 16128/17616\n",
      "Completed 16192/17616\n",
      "Completed 16256/17616\n",
      "Completed 16320/17616\n",
      "Completed 16384/17616\n",
      "Completed 16448/17616\n",
      "Completed 16512/17616\n",
      "Completed 16576/17616\n",
      "Completed 16640/17616\n",
      "Completed 16704/17616\n",
      "Completed 16768/17616\n",
      "Completed 16832/17616\n",
      "Completed 16896/17616\n",
      "Completed 16960/17616\n",
      "Completed 17024/17616\n",
      "Completed 17088/17616\n",
      "Completed 17152/17616\n",
      "Completed 17216/17616\n",
      "Completed 17280/17616\n",
      "Completed 17344/17616\n",
      "Completed 17408/17616\n",
      "Completed 17472/17616\n",
      "Completed 17536/17616\n",
      "Completed 17600/17616\n",
      "Completed 17616/17616\n",
      "Performing feature extraction on resized images...\n",
      "Completed   64/4471\n",
      "Completed  128/4471\n",
      "Completed  192/4471\n",
      "Completed  256/4471\n",
      "Completed  320/4471\n",
      "Completed  384/4471\n",
      "Completed  448/4471\n",
      "Completed  512/4471\n",
      "Completed  576/4471\n",
      "Completed  640/4471\n",
      "Completed  704/4471\n",
      "Completed  768/4471\n",
      "Completed  832/4471\n",
      "Completed  896/4471\n",
      "Completed  960/4471\n",
      "Completed 1024/4471\n",
      "Completed 1088/4471\n",
      "Completed 1152/4471\n",
      "Completed 1216/4471\n",
      "Completed 1280/4471\n",
      "Completed 1344/4471\n",
      "Completed 1408/4471\n",
      "Completed 1472/4471\n",
      "Completed 1536/4471\n",
      "Completed 1600/4471\n",
      "Completed 1664/4471\n",
      "Completed 1728/4471\n",
      "Completed 1792/4471\n",
      "Completed 1856/4471\n",
      "Completed 1920/4471\n",
      "Completed 1984/4471\n",
      "Completed 2048/4471\n",
      "Completed 2112/4471\n",
      "Completed 2176/4471\n",
      "Completed 2240/4471\n",
      "Completed 2304/4471\n",
      "Completed 2368/4471\n",
      "Completed 2432/4471\n",
      "Completed 2496/4471\n",
      "Completed 2560/4471\n",
      "Completed 2624/4471\n",
      "Completed 2688/4471\n",
      "Completed 2752/4471\n",
      "Completed 2816/4471\n",
      "Completed 2880/4471\n",
      "Completed 2944/4471\n",
      "Completed 3008/4471\n",
      "Completed 3072/4471\n",
      "Completed 3136/4471\n",
      "Completed 3200/4471\n",
      "Completed 3264/4471\n",
      "Completed 3328/4471\n",
      "Completed 3392/4471\n",
      "Completed 3456/4471\n",
      "Completed 3520/4471\n",
      "Completed 3584/4471\n",
      "Completed 3648/4471\n",
      "Completed 3712/4471\n",
      "Completed 3776/4471\n",
      "Completed 3840/4471\n",
      "Completed 3904/4471\n",
      "Completed 3968/4471\n",
      "Completed 4032/4471\n",
      "Completed 4096/4471\n",
      "Completed 4160/4471\n",
      "Completed 4224/4471\n",
      "Completed 4288/4471\n",
      "Completed 4352/4471\n",
      "Completed 4416/4471\n",
      "Completed 4471/4471\n"
     ]
    },
    {
     "data": {
      "text/html": [
       "<pre>Logistic regression:</pre>"
      ],
      "text/plain": [
       "Logistic regression:"
      ]
     },
     "metadata": {},
     "output_type": "display_data"
    },
    {
     "data": {
      "text/html": [
       "<pre>--------------------------------------------------------</pre>"
      ],
      "text/plain": [
       "--------------------------------------------------------"
      ]
     },
     "metadata": {},
     "output_type": "display_data"
    },
    {
     "data": {
      "text/html": [
       "<pre>Number of examples          : 17616</pre>"
      ],
      "text/plain": [
       "Number of examples          : 17616"
      ]
     },
     "metadata": {},
     "output_type": "display_data"
    },
    {
     "data": {
      "text/html": [
       "<pre>Number of classes           : 2</pre>"
      ],
      "text/plain": [
       "Number of classes           : 2"
      ]
     },
     "metadata": {},
     "output_type": "display_data"
    },
    {
     "data": {
      "text/html": [
       "<pre>Number of feature columns   : 1</pre>"
      ],
      "text/plain": [
       "Number of feature columns   : 1"
      ]
     },
     "metadata": {},
     "output_type": "display_data"
    },
    {
     "data": {
      "text/html": [
       "<pre>Number of unpacked features : 2048</pre>"
      ],
      "text/plain": [
       "Number of unpacked features : 2048"
      ]
     },
     "metadata": {},
     "output_type": "display_data"
    },
    {
     "data": {
      "text/html": [
       "<pre>Number of coefficients      : 2049</pre>"
      ],
      "text/plain": [
       "Number of coefficients      : 2049"
      ]
     },
     "metadata": {},
     "output_type": "display_data"
    },
    {
     "data": {
      "text/html": [
       "<pre>Starting L-BFGS</pre>"
      ],
      "text/plain": [
       "Starting L-BFGS"
      ]
     },
     "metadata": {},
     "output_type": "display_data"
    },
    {
     "data": {
      "text/html": [
       "<pre>--------------------------------------------------------</pre>"
      ],
      "text/plain": [
       "--------------------------------------------------------"
      ]
     },
     "metadata": {},
     "output_type": "display_data"
    },
    {
     "data": {
      "text/html": [
       "<pre>+-----------+----------+-----------+--------------+-------------------+---------------------+</pre>"
      ],
      "text/plain": [
       "+-----------+----------+-----------+--------------+-------------------+---------------------+"
      ]
     },
     "metadata": {},
     "output_type": "display_data"
    },
    {
     "data": {
      "text/html": [
       "<pre>| Iteration | Passes   | Step size | Elapsed Time | Training-accuracy | Validation-accuracy |</pre>"
      ],
      "text/plain": [
       "| Iteration | Passes   | Step size | Elapsed Time | Training-accuracy | Validation-accuracy |"
      ]
     },
     "metadata": {},
     "output_type": "display_data"
    },
    {
     "data": {
      "text/html": [
       "<pre>+-----------+----------+-----------+--------------+-------------------+---------------------+</pre>"
      ],
      "text/plain": [
       "+-----------+----------+-----------+--------------+-------------------+---------------------+"
      ]
     },
     "metadata": {},
     "output_type": "display_data"
    },
    {
     "data": {
      "text/html": [
       "<pre>| 1         | 6        | 0.000003  | 3.046645     | 0.502498          | 0.498546            |</pre>"
      ],
      "text/plain": [
       "| 1         | 6        | 0.000003  | 3.046645     | 0.502498          | 0.498546            |"
      ]
     },
     "metadata": {},
     "output_type": "display_data"
    },
    {
     "data": {
      "text/html": [
       "<pre>| 2         | 8        | 1.000000  | 4.436010     | 0.822377          | 0.821293            |</pre>"
      ],
      "text/plain": [
       "| 2         | 8        | 1.000000  | 4.436010     | 0.822377          | 0.821293            |"
      ]
     },
     "metadata": {},
     "output_type": "display_data"
    },
    {
     "data": {
      "text/html": [
       "<pre>| 3         | 9        | 1.000000  | 5.526598     | 0.844630          | 0.849027            |</pre>"
      ],
      "text/plain": [
       "| 3         | 9        | 1.000000  | 5.526598     | 0.844630          | 0.849027            |"
      ]
     },
     "metadata": {},
     "output_type": "display_data"
    },
    {
     "data": {
      "text/html": [
       "<pre>| 4         | 10       | 1.000000  | 6.607287     | 0.842757          | 0.846119            |</pre>"
      ],
      "text/plain": [
       "| 4         | 10       | 1.000000  | 6.607287     | 0.842757          | 0.846119            |"
      ]
     },
     "metadata": {},
     "output_type": "display_data"
    },
    {
     "data": {
      "text/html": [
       "<pre>| 5         | 11       | 1.000000  | 7.628104     | 0.857232          | 0.857750            |</pre>"
      ],
      "text/plain": [
       "| 5         | 11       | 1.000000  | 7.628104     | 0.857232          | 0.857750            |"
      ]
     },
     "metadata": {},
     "output_type": "display_data"
    },
    {
     "data": {
      "text/html": [
       "<pre>| 10        | 16       | 1.000000  | 12.754394    | 0.876306          | 0.876985            |</pre>"
      ],
      "text/plain": [
       "| 10        | 16       | 1.000000  | 12.754394    | 0.876306          | 0.876985            |"
      ]
     },
     "metadata": {},
     "output_type": "display_data"
    },
    {
     "data": {
      "text/html": [
       "<pre>| 15        | 21       | 1.000000  | 17.848421    | 0.919051          | 0.919481            |</pre>"
      ],
      "text/plain": [
       "| 15        | 21       | 1.000000  | 17.848421    | 0.919051          | 0.919481            |"
      ]
     },
     "metadata": {},
     "output_type": "display_data"
    },
    {
     "data": {
      "text/html": [
       "<pre>| 20        | 27       | 1.000000  | 23.323171    | 0.928588          | 0.929546            |</pre>"
      ],
      "text/plain": [
       "| 20        | 27       | 1.000000  | 23.323171    | 0.928588          | 0.929546            |"
      ]
     },
     "metadata": {},
     "output_type": "display_data"
    },
    {
     "data": {
      "text/html": [
       "<pre>| 25        | 33       | 1.000000  | 28.879053    | 0.931994          | 0.931335            |</pre>"
      ],
      "text/plain": [
       "| 25        | 33       | 1.000000  | 28.879053    | 0.931994          | 0.931335            |"
      ]
     },
     "metadata": {},
     "output_type": "display_data"
    },
    {
     "data": {
      "text/html": [
       "<pre>| 30        | 39       | 1.000000  | 34.358547    | 0.939089          | 0.931783            |</pre>"
      ],
      "text/plain": [
       "| 30        | 39       | 1.000000  | 34.358547    | 0.939089          | 0.931783            |"
      ]
     },
     "metadata": {},
     "output_type": "display_data"
    },
    {
     "data": {
      "text/html": [
       "<pre>+-----------+----------+-----------+--------------+-------------------+---------------------+</pre>"
      ],
      "text/plain": [
       "+-----------+----------+-----------+--------------+-------------------+---------------------+"
      ]
     },
     "metadata": {},
     "output_type": "display_data"
    },
    {
     "data": {
      "text/html": [
       "<pre>Completed (Iteration limit reached).</pre>"
      ],
      "text/plain": [
       "Completed (Iteration limit reached)."
      ]
     },
     "metadata": {},
     "output_type": "display_data"
    },
    {
     "data": {
      "text/html": [
       "<pre>This model may not be optimal. To improve it, consider increasing `max_iterations`.</pre>"
      ],
      "text/plain": [
       "This model may not be optimal. To improve it, consider increasing `max_iterations`."
      ]
     },
     "metadata": {},
     "output_type": "display_data"
    }
   ],
   "source": [
    "# Create model\n",
    "model = tc.image_classifier.create(train_data, target= 'label', max_iterations = 30,validation_set = valid_data  )"
   ]
  },
  {
   "cell_type": "code",
   "execution_count": 13,
   "metadata": {},
   "outputs": [],
   "source": [
    "# storing the prediction \n",
    "\n",
    "predictions = model.predict(test_data)"
   ]
  },
  {
   "cell_type": "code",
   "execution_count": 14,
   "metadata": {},
   "outputs": [
    {
     "name": "stdout",
     "output_type": "stream",
     "text": [
      "Performing feature extraction on resized images...\n",
      "Completed   64/5471\n",
      "Completed  128/5471\n",
      "Completed  192/5471\n",
      "Completed  256/5471\n",
      "Completed  320/5471\n",
      "Completed  384/5471\n",
      "Completed  448/5471\n",
      "Completed  512/5471\n",
      "Completed  576/5471\n",
      "Completed  640/5471\n",
      "Completed  704/5471\n",
      "Completed  768/5471\n",
      "Completed  832/5471\n",
      "Completed  896/5471\n",
      "Completed  960/5471\n",
      "Completed 1024/5471\n",
      "Completed 1088/5471\n",
      "Completed 1152/5471\n",
      "Completed 1216/5471\n",
      "Completed 1280/5471\n",
      "Completed 1344/5471\n",
      "Completed 1408/5471\n",
      "Completed 1472/5471\n",
      "Completed 1536/5471\n",
      "Completed 1600/5471\n",
      "Completed 1664/5471\n",
      "Completed 1728/5471\n",
      "Completed 1792/5471\n",
      "Completed 1856/5471\n",
      "Completed 1920/5471\n",
      "Completed 1984/5471\n",
      "Completed 2048/5471\n",
      "Completed 2112/5471\n",
      "Completed 2176/5471\n",
      "Completed 2240/5471\n",
      "Completed 2304/5471\n",
      "Completed 2368/5471\n",
      "Completed 2432/5471\n",
      "Completed 2496/5471\n",
      "Completed 2560/5471\n",
      "Completed 2624/5471\n",
      "Completed 2688/5471\n",
      "Completed 2752/5471\n",
      "Completed 2816/5471\n",
      "Completed 2880/5471\n",
      "Completed 2944/5471\n",
      "Completed 3008/5471\n",
      "Completed 3072/5471\n",
      "Completed 3136/5471\n",
      "Completed 3200/5471\n",
      "Completed 3264/5471\n",
      "Completed 3328/5471\n",
      "Completed 3392/5471\n",
      "Completed 3456/5471\n",
      "Completed 3520/5471\n",
      "Completed 3584/5471\n",
      "Completed 3648/5471\n",
      "Completed 3712/5471\n",
      "Completed 3776/5471\n",
      "Completed 3840/5471\n",
      "Completed 3904/5471\n",
      "Completed 3968/5471\n",
      "Completed 4032/5471\n",
      "Completed 4096/5471\n",
      "Completed 4160/5471\n",
      "Completed 4224/5471\n",
      "Completed 4288/5471\n",
      "Completed 4352/5471\n",
      "Completed 4416/5471\n",
      "Completed 4480/5471\n",
      "Completed 4544/5471\n",
      "Completed 4608/5471\n",
      "Completed 4672/5471\n",
      "Completed 4736/5471\n",
      "Completed 4800/5471\n",
      "Completed 4864/5471\n",
      "Completed 4928/5471\n",
      "Completed 4992/5471\n",
      "Completed 5056/5471\n",
      "Completed 5120/5471\n",
      "Completed 5184/5471\n",
      "Completed 5248/5471\n",
      "Completed 5312/5471\n",
      "Completed 5376/5471\n",
      "Completed 5440/5471\n",
      "Completed 5471/5471\n",
      "0.932553463718\n"
     ]
    }
   ],
   "source": [
    "# Evaluating the model on the test data\n",
    "\n",
    "metrics = model.evaluate(test_data)\n",
    "print(metrics['accuracy'])"
   ]
  },
  {
   "cell_type": "code",
   "execution_count": 24,
   "metadata": {},
   "outputs": [
    {
     "name": "stdout",
     "output_type": "stream",
     "text": [
      "Confusion Matrix : \n",
      "+--------------+-----------------+-------+\n",
      "| target_label | predicted_label | count |\n",
      "+--------------+-----------------+-------+\n",
      "|   malaria    |     malaria     |  2538 |\n",
      "|   malaria    |   not malaria   |  203  |\n",
      "| not malaria  |   not malaria   |  2564 |\n",
      "| not malaria  |     malaria     |  166  |\n",
      "+--------------+-----------------+-------+\n",
      "[4 rows x 3 columns]\n",
      "\n"
     ]
    }
   ],
   "source": [
    "# Printing confusion matrix\n",
    "\n",
    "print (\"Confusion Matrix : \\n%s\" % metrics['confusion_matrix'])"
   ]
  },
  {
   "cell_type": "code",
   "execution_count": 16,
   "metadata": {},
   "outputs": [
    {
     "name": "stdout",
     "output_type": "stream",
     "text": [
      "Class                                    : ImageClassifier\n",
      "\n",
      "Schema\n",
      "------\n",
      "Number of classes                        : 2\n",
      "Number of feature columns                : 1\n",
      "Input image shape                        : (3, 224, 224)\n",
      "\n",
      "Training summary\n",
      "----------------\n",
      "Number of examples                       : 17616\n",
      "Training loss                            : 2974.4021\n",
      "Training time (sec)                      : 3490.1657\n",
      "\n"
     ]
    }
   ],
   "source": [
    "model.summary()"
   ]
  },
  {
   "cell_type": "code",
   "execution_count": null,
   "metadata": {},
   "outputs": [],
   "source": [
    "#It took 58 minutes to complete model generation from 22,147 images on a laptop with \n",
    "# Intel core i7-6500U 2.5GHZ , 16 gb memory without using the GPU"
   ]
  },
  {
   "cell_type": "code",
   "execution_count": 17,
   "metadata": {},
   "outputs": [],
   "source": [
    " #Save the model for later use in Turi Create\n",
    "\n",
    "model.save('malaria.model')"
   ]
  },
  {
   "cell_type": "code",
   "execution_count": 18,
   "metadata": {},
   "outputs": [],
   "source": [
    "#Export for use in Core ML\n",
    "# You can use this model in the template provided by apple to create an iphone app\n",
    "# Refer to this website if you need assistance - https://www.appcoda.com/core-ml-model-with-python/\n",
    "\n",
    "model.export_coreml('malaria.mlmodel')"
   ]
  },
  {
   "cell_type": "code",
   "execution_count": 19,
   "metadata": {},
   "outputs": [
    {
     "name": "stdout",
     "output_type": "stream",
     "text": [
      "0.932872475896\n"
     ]
    }
   ],
   "source": [
    "print(metrics['f1_score'])"
   ]
  },
  {
   "cell_type": "code",
   "execution_count": 20,
   "metadata": {},
   "outputs": [],
   "source": [
    "targets = test_data['label']"
   ]
  },
  {
   "cell_type": "code",
   "execution_count": 21,
   "metadata": {},
   "outputs": [],
   "source": [
    "f1 = tc.evaluation.f1_score(targets, predictions)"
   ]
  },
  {
   "cell_type": "code",
   "execution_count": 22,
   "metadata": {},
   "outputs": [],
   "source": [
    "fbeta = tc.evaluation.fbeta_score(targets, predictions, beta = 2.0)"
   ]
  },
  {
   "cell_type": "code",
   "execution_count": 23,
   "metadata": {},
   "outputs": [
    {
     "name": "stdout",
     "output_type": "stream",
     "text": [
      "(0.9328724758959431, 0.9366552202820194)\n"
     ]
    }
   ],
   "source": [
    "print(f1, fbeta)"
   ]
  },
  {
   "cell_type": "markdown",
   "metadata": {},
   "source": [
    "Stats\n",
    "\n",
    "F-beta score = 93.6\n",
    "\n",
    "Accuracy = 93.26%\n",
    "\n",
    "Sensitivity = 92.5%\n",
    "\n",
    "Specificity = 93.2%\n",
    "\n",
    "Positive predictive value = 93.8%\n",
    "\n",
    "Negative predictive value = 92.6%\n"
   ]
  },
  {
   "cell_type": "code",
   "execution_count": null,
   "metadata": {},
   "outputs": [],
   "source": []
  },
  {
   "cell_type": "code",
   "execution_count": null,
   "metadata": {},
   "outputs": [],
   "source": []
  },
  {
   "cell_type": "code",
   "execution_count": null,
   "metadata": {},
   "outputs": [],
   "source": []
  },
  {
   "cell_type": "code",
   "execution_count": null,
   "metadata": {},
   "outputs": [],
   "source": []
  },
  {
   "cell_type": "code",
   "execution_count": null,
   "metadata": {},
   "outputs": [],
   "source": []
  },
  {
   "cell_type": "code",
   "execution_count": null,
   "metadata": {},
   "outputs": [],
   "source": []
  },
  {
   "cell_type": "code",
   "execution_count": null,
   "metadata": {},
   "outputs": [],
   "source": []
  },
  {
   "cell_type": "code",
   "execution_count": null,
   "metadata": {},
   "outputs": [],
   "source": []
  },
  {
   "cell_type": "code",
   "execution_count": null,
   "metadata": {},
   "outputs": [],
   "source": []
  },
  {
   "cell_type": "code",
   "execution_count": null,
   "metadata": {},
   "outputs": [],
   "source": []
  },
  {
   "cell_type": "code",
   "execution_count": null,
   "metadata": {},
   "outputs": [],
   "source": []
  },
  {
   "cell_type": "code",
   "execution_count": null,
   "metadata": {},
   "outputs": [],
   "source": []
  },
  {
   "cell_type": "code",
   "execution_count": null,
   "metadata": {},
   "outputs": [],
   "source": []
  },
  {
   "cell_type": "code",
   "execution_count": null,
   "metadata": {},
   "outputs": [],
   "source": []
  },
  {
   "cell_type": "code",
   "execution_count": null,
   "metadata": {},
   "outputs": [],
   "source": []
  },
  {
   "cell_type": "code",
   "execution_count": null,
   "metadata": {},
   "outputs": [],
   "source": []
  },
  {
   "cell_type": "code",
   "execution_count": null,
   "metadata": {},
   "outputs": [],
   "source": []
  },
  {
   "cell_type": "code",
   "execution_count": null,
   "metadata": {},
   "outputs": [],
   "source": []
  },
  {
   "cell_type": "code",
   "execution_count": null,
   "metadata": {},
   "outputs": [],
   "source": []
  },
  {
   "cell_type": "code",
   "execution_count": null,
   "metadata": {},
   "outputs": [],
   "source": []
  },
  {
   "cell_type": "code",
   "execution_count": null,
   "metadata": {},
   "outputs": [],
   "source": []
  },
  {
   "cell_type": "code",
   "execution_count": null,
   "metadata": {},
   "outputs": [],
   "source": []
  }
 ],
 "metadata": {
  "kernelspec": {
   "display_name": "Python 2",
   "language": "python",
   "name": "python2"
  },
  "language_info": {
   "codemirror_mode": {
    "name": "ipython",
    "version": 2
   },
   "file_extension": ".py",
   "mimetype": "text/x-python",
   "name": "python",
   "nbconvert_exporter": "python",
   "pygments_lexer": "ipython2",
   "version": "2.7.15rc1"
  }
 },
 "nbformat": 4,
 "nbformat_minor": 2
}
